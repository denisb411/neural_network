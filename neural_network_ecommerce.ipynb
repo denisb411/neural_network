{
 "cells": [
  {
   "cell_type": "code",
   "execution_count": 1,
   "metadata": {},
   "outputs": [],
   "source": [
    "import numpy as np\n",
    "import matplotlib.pyplot as plt\n",
    "import pandas as pd\n",
    "\n",
    "from sklearn.utils import shuffle"
   ]
  },
  {
   "cell_type": "markdown",
   "metadata": {},
   "source": [
    "## Firstly using logistic regression for comparation ##"
   ]
  },
  {
   "cell_type": "code",
   "execution_count": 2,
   "metadata": {
    "collapsed": true
   },
   "outputs": [],
   "source": [
    "def get_data():\n",
    "    df = pd.read_csv('ecommerce_data.csv')\n",
    "    data = df.as_matrix()\n",
    "    \n",
    "    X = data[:,:-1]\n",
    "    Y = data[:,-1]\n",
    "    \n",
    "    X[:,1] = (X[:,1] - X[:,1].mean()) / X[:,1].std()\n",
    "    X[:,2] = (X[:,2] - X[:,2].mean()) / X[:,2].std()\n",
    "    \n",
    "    N, D = X.shape\n",
    "    X2 = np.zeros((N, D+3))\n",
    "    X2[:,0:(D-1)] = X[:,0:(D-1)]\n",
    "    \n",
    "    for n in range(N):\n",
    "        t = int(X[n,D-1])\n",
    "        X2[n,t+D-1] = 1\n",
    "        \n",
    "#     Z = np.zeros((N,4))\n",
    "#     Z[np.arange(N), X[:,D-1].astype(np.int32)] = 1\n",
    "#     X2[:,-4:] = Z\n",
    "    \n",
    "#     assert(np.abs(X2[:,-4:] - Z).sum() < 10e-10)\n",
    "    \n",
    "    return X2, Y\n",
    "\n",
    "def y2indicator(y, K):\n",
    "    N = len(y)\n",
    "    ind = np.zeros((N, K))\n",
    "    for i in range(N):\n",
    "        ind[i, y[i]] = 1\n",
    "    return ind"
   ]
  },
  {
   "cell_type": "code",
   "execution_count": 3,
   "metadata": {},
   "outputs": [
    {
     "name": "stdout",
     "output_type": "stream",
     "text": [
      "0 0.393830700203 0.393830700203\n",
      "1000 0.0850885133312 0.0850885133312\n",
      "2000 0.0816737781999 0.0816737781999\n",
      "3000 0.0804248884346 0.0804248884346\n",
      "4000 0.0798021789805 0.0798021789805\n",
      "5000 0.0794416680228 0.0794416680228\n",
      "6000 0.0792131754417 0.0792131754417\n",
      "7000 0.0790592091706 0.0790592091706\n",
      "8000 0.0789507532586 0.0789507532586\n",
      "9000 0.0788717303165 0.0788717303165\n",
      "Final train classification_rate: 0.9175\n",
      "Final train classification_rate: 0.9175\n"
     ]
    },
    {
     "data": {
      "image/png": "[encoded data removed]",
      "text/plain": [
       "<matplotlib.figure.Figure at 0x1e006e464a8>"
      ]
     },
     "metadata": {},
     "output_type": "display_data"
    }
   ],
   "source": [
    "X, Y = get_data()\n",
    "X, Y = shuffle(X, Y)\n",
    "Y = Y.astype(np.int32)\n",
    "D = X.shape[1]\n",
    "K = len(set(Y))\n",
    "\n",
    "Xtrain = X[:-100]\n",
    "Ytrain = Y[:-100]\n",
    "Ytrain_ind = y2indicator(Ytrain, K)\n",
    "Xtest = X[:-100]\n",
    "Ytest = Y[:-100]\n",
    "Ytest_ind = y2indicator(Ytest, K)\n",
    "\n",
    "W = np.random.randn(D, K)\n",
    "b = np.zeros(K)\n",
    "\n",
    "def softmax(a):\n",
    "    expA = np.exp(a)\n",
    "    return expA / expA.sum(axis=1, keepdims=True)\n",
    "\n",
    "def forward(X, W, b):\n",
    "    return softmax(X.dot(W) + b)\n",
    "\n",
    "def predict(P_Y_given_X):\n",
    "    return np.argmax(P_Y_given_X, axis=1)\n",
    "\n",
    "def classification_rate(Y, P):\n",
    "    return np.mean(Y == P)\n",
    "\n",
    "def cross_entropy(T, pY):\n",
    "    return -np.mean(T*np.log(pY))\n",
    "\n",
    "train_costs = []\n",
    "test_costs = []\n",
    "learning_rate = 0.001\n",
    "for i in range(10000):\n",
    "    pYtrain = forward(Xtrain, W, b)\n",
    "    pYtest = forward(Xtest, W, b)\n",
    "    \n",
    "    ctrain = cross_entropy(Ytrain_ind, pYtrain)\n",
    "    ctest = cross_entropy(Ytest_ind, pYtest)\n",
    "    train_costs.append(ctrain)\n",
    "    test_costs.append(ctest)\n",
    "    \n",
    "    W -= learning_rate*Xtrain.T.dot(pYtrain - Ytrain_ind)\n",
    "    b -= learning_rate*(pYtrain - Ytrain_ind).sum(axis=0)\n",
    "    if i % 1000 == 0:\n",
    "        print(i, ctrain, ctest)\n",
    "        \n",
    "print(\"Final train classification_rate:\", classification_rate(Ytrain, predict(pYtrain)))\n",
    "print(\"Final train classification_rate:\", classification_rate(Ytest, predict(pYtest)))\n",
    "\n",
    "legend1, = plt.plot(train_costs, label='train cost')\n",
    "legend2, = plt.plot(test_costs, label='test cost')\n",
    "plt.legend([legend1, legend2])\n",
    "plt.show()"
   ]
  },
  {
   "cell_type": "markdown",
   "metadata": {},
   "source": [
    "## Now using Neural Network ##"
   ]
  },
  {
   "cell_type": "code",
   "execution_count": 4,
   "metadata": {},
   "outputs": [
    {
     "name": "stdout",
     "output_type": "stream",
     "text": [
      "0 0.554580337174 0.554580337174\n",
      "1000 0.042572951893 0.042572951893\n",
      "2000 0.0352224100372 0.0352224100372\n",
      "3000 0.0290293408642 0.0290293408642\n",
      "4000 0.0249670053149 0.0249670053149\n",
      "5000 0.0231236874893 0.0231236874893\n",
      "6000 0.0217285675945 0.0217285675945\n",
      "7000 0.0205908595085 0.0205908595085\n",
      "8000 0.0196942606843 0.0196942606843\n",
      "9000 0.0189424405053 0.0189424405053\n",
      "Final train classification_rate: 0.9775\n",
      "Final train classification_rate: 0.9775\n"
     ]
    },
    {
     "data": {
      "image/png": "[encoded data removed]",
      "text/plain": [
       "<matplotlib.figure.Figure at 0x1e0083428d0>"
      ]
     },
     "metadata": {},
     "output_type": "display_data"
    }
   ],
   "source": [
    "X, Y = get_data()\n",
    "X, Y = shuffle(X, Y)\n",
    "Y = Y.astype(np.int32)\n",
    "\n",
    "M = 5\n",
    "D = X.shape[1]\n",
    "K = len(set(Y))\n",
    "\n",
    "Xtrain = X[:-100]\n",
    "Ytrain = Y[:-100]\n",
    "Ytrain_ind = y2indicator(Ytrain, K)\n",
    "Xtest = X[:-100]\n",
    "Ytest = Y[:-100]\n",
    "Ytest_ind = y2indicator(Ytest, K)\n",
    "\n",
    "#random initializing weights\n",
    "W1 = np.random.randn(D, M)\n",
    "b1 = np.zeros(M)\n",
    "W2 = np.random.randn(M, K)\n",
    "b2 = np.zeros(K)\n",
    "\n",
    "def softmax(a):\n",
    "    expA = np.exp(a)\n",
    "    return expA / expA.sum(axis=1, keepdims=True)\n",
    "\n",
    "def forward(X, W1, b1, W2, b2):\n",
    "    Z = np.tanh(X.dot(W1) + b1)\n",
    "    return softmax(Z.dot(W2) + b2), Z\n",
    "\n",
    "def predict(P_Y_given_X):\n",
    "    return np.argmax(P_Y_given_X, axis=1)\n",
    "\n",
    "def classification_rate(Y, P):\n",
    "    return np.mean(Y == P)\n",
    "\n",
    "def cross_entropy(T, pY):\n",
    "    return -np.mean(T*np.log(pY))\n",
    "\n",
    "train_costs = []\n",
    "test_costs = []\n",
    "learning_rate = 0.001\n",
    "for i in range(10000):\n",
    "    pYtrain, Ztrain = forward(Xtrain, W1, b1, W2, b2)\n",
    "    pYtest, Ztest = forward(Xtest, W1, b1, W2, b2)\n",
    "    \n",
    "    ctrain = cross_entropy(Ytrain_ind, pYtrain)\n",
    "    ctest = cross_entropy(Ytest_ind, pYtest)\n",
    "    train_costs.append(ctrain)\n",
    "    test_costs.append(ctest)\n",
    "    \n",
    "    W2 -= learning_rate*Ztrain.T.dot(pYtrain - Ytrain_ind)\n",
    "    b2 -= learning_rate*(pYtrain - Ytrain_ind).sum()\n",
    "    dZ = (pYtrain - Ytrain_ind).dot(W2.T) * (1 - Ztrain*Ztrain)\n",
    "    W1 -= learning_rate*Xtrain.T.dot(dZ)\n",
    "    b1 -= learning_rate*dZ.sum(axis=0)\n",
    "    \n",
    "    if i % 1000 == 0:\n",
    "        print(i, ctrain, ctest)\n",
    "        \n",
    "print(\"Final train classification_rate:\", classification_rate(Ytrain, predict(pYtrain)))\n",
    "print(\"Final train classification_rate:\", classification_rate(Ytest, predict(pYtest)))\n",
    "legend1, = plt.plot(train_costs, label='train cost')\n",
    "legend2, = plt.plot(test_costs, label='test cost')\n",
    "plt.legend([legend1, legend2])\n",
    "plt.show()"
   ]
  },
  {
   "cell_type": "markdown",
   "metadata": {},
   "source": [
    "Neural network reached a bigger accuracy rate"
   ]
  }
 ],
 "metadata": {
  "kernelspec": {
   "display_name": "Python 3",
   "language": "python",
   "name": "python3"
  },
  "language_info": {
   "codemirror_mode": {
    "name": "ipython",
    "version": 3
   },
   "file_extension": ".py",
   "mimetype": "text/x-python",
   "name": "python",
   "nbconvert_exporter": "python",
   "pygments_lexer": "ipython3",
   "version": "3.6.1"
  }
 },
 "nbformat": 4,
 "nbformat_minor": 2
}
