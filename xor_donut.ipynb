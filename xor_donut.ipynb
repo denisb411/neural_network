{
 "cells": [
  {
   "cell_type": "code",
   "execution_count": 1,
   "metadata": {
    "collapsed": true
   },
   "outputs": [],
   "source": [
    "import numpy as np\n",
    "import matplotlib.pyplot as plt\n",
    "\n",
    "# for binary classification! no softmax here\n",
    "\n",
    "def forward(X, W1, b1, W2, b2):\n",
    "    # sigmoid\n",
    "    # Z = 1 / (1 + np.exp( -(X.dot(W1) + b1) ))\n",
    "\n",
    "    # tanh\n",
    "    # Z = np.tanh(X.dot(W1) + b1)\n",
    "\n",
    "    # relu\n",
    "    Z = X.dot(W1) + b1\n",
    "    Z = Z * (Z > 0)\n",
    "\n",
    "    activation = Z.dot(W2) + b2\n",
    "    Y = 1 / (1 + np.exp(-activation))\n",
    "    return Y, Z\n",
    "\n",
    "\n",
    "def predict(X, W1, b1, W2, b2):\n",
    "    Y, _ = forward(X, W1, b1, W2, b2)\n",
    "    return np.round(Y)\n",
    "\n",
    "\n",
    "def derivative_w2(Z, T, Y):\n",
    "    # Z is (N, M)\n",
    "    return (T - Y).dot(Z)\n",
    "\n",
    "def derivative_b2(T, Y):\n",
    "    return (T - Y).sum()\n",
    "\n",
    "\n",
    "def derivative_w1(X, Z, T, Y, W2):\n",
    "    # dZ = np.outer(T-Y, W2) * Z * (1 - Z) # this is for sigmoid activation\n",
    "    # dZ = np.outer(T-Y, W2) * (1 - Z * Z) # this is for tanh activation\n",
    "    dZ = np.outer(T-Y, W2) * (Z > 0) # this is for relu activation\n",
    "    return X.T.dot(dZ)\n",
    "\n",
    "\n",
    "def derivative_b1(Z, T, Y, W2):\n",
    "    # dZ = np.outer(T-Y, W2) * Z * (1 - Z) # this is for sigmoid activation\n",
    "    # dZ = np.outer(T-Y, W2) * (1 - Z * Z) # this is for tanh activation\n",
    "    dZ = np.outer(T-Y, W2) * (Z > 0) # this is for relu activation\n",
    "    return dZ.sum(axis=0)\n",
    "\n",
    "\n",
    "def get_log_likelihood(T, Y):\n",
    "    return np.sum(T*np.log(Y) + (1-T)*np.log(1-Y))\n",
    "\n",
    "\n",
    "\n",
    "def test_xor():\n",
    "    X = np.array([[0, 0], [0, 1], [1, 0], [1, 1]])\n",
    "    Y = np.array([0, 1, 1, 0])\n",
    "    W1 = np.random.randn(2, 5)\n",
    "    b1 = np.zeros(5)\n",
    "    W2 = np.random.randn(5)\n",
    "    b2 = 0\n",
    "    LL = [] # keep track of log-likelihoods\n",
    "    learning_rate = 1e-2\n",
    "    regularization = 0.\n",
    "    last_error_rate = None\n",
    "    for i in range(30000):\n",
    "        pY, Z = forward(X, W1, b1, W2, b2)\n",
    "        ll = get_log_likelihood(Y, pY)\n",
    "        prediction = predict(X, W1, b1, W2, b2)\n",
    "        er = np.mean(prediction != Y)\n",
    "\n",
    "        LL.append(ll)\n",
    "        W2 += learning_rate * (derivative_w2(Z, Y, pY) - regularization * W2)\n",
    "        b2 += learning_rate * (derivative_b2(Y, pY) - regularization * b2)\n",
    "        W1 += learning_rate * (derivative_w1(X, Z, Y, pY, W2) - regularization * W1)\n",
    "        b1 += learning_rate * (derivative_b1(Z, Y, pY, W2) - regularization * b1)\n",
    "        if i % 1000 == 0:\n",
    "            print(ll)\n",
    "\n",
    "    print(\"final classification rate:\", np.mean(prediction == Y))\n",
    "    plt.plot(LL)\n",
    "    plt.show()\n",
    "\n",
    "\n",
    "def test_donut():\n",
    "    # donut example\n",
    "    N = 1000\n",
    "    R_inner = 5\n",
    "    R_outer = 10\n",
    "\n",
    "    # distance from origin is radius + random normal\n",
    "    # angle theta is uniformly distributed between (0, 2pi)\n",
    "    R1 = np.random.randn(N//2) + R_inner\n",
    "    theta = 2*np.pi*np.random.random(N//2)\n",
    "    X_inner = np.concatenate([[R1 * np.cos(theta)], [R1 * np.sin(theta)]]).T\n",
    "\n",
    "    R2 = np.random.randn(N//2) + R_outer\n",
    "    theta = 2*np.pi*np.random.random(N//2)\n",
    "    X_outer = np.concatenate([[R2 * np.cos(theta)], [R2 * np.sin(theta)]]).T\n",
    "\n",
    "    X = np.concatenate([ X_inner, X_outer ])\n",
    "    Y = np.array([0]*(N//2) + [1]*(N//2))\n",
    "\n",
    "    n_hidden = 8\n",
    "    W1 = np.random.randn(2, n_hidden)\n",
    "    b1 = np.random.randn(n_hidden)\n",
    "    W2 = np.random.randn(n_hidden)\n",
    "    b2 = np.random.randn(1)\n",
    "    LL = [] # keep track of log-likelihoods\n",
    "    learning_rate = 0.00005\n",
    "    regularization = 0.2\n",
    "    last_error_rate = None\n",
    "    for i in range(3000):\n",
    "        pY, Z = forward(X, W1, b1, W2, b2)\n",
    "        ll = get_log_likelihood(Y, pY)\n",
    "        prediction = predict(X, W1, b1, W2, b2)\n",
    "        er = np.abs(prediction - Y).mean()\n",
    "        LL.append(ll)\n",
    "        W2 += learning_rate * (derivative_w2(Z, Y, pY) - regularization * W2)\n",
    "        b2 += learning_rate * (derivative_b2(Y, pY) - regularization * b2)\n",
    "        W1 += learning_rate * (derivative_w1(X, Z, Y, pY, W2) - regularization * W1)\n",
    "        b1 += learning_rate * (derivative_b1(Z, Y, pY, W2) - regularization * b1)\n",
    "        if i % 300 == 0:\n",
    "            print(\"i:\", i, \"ll:\", ll, \"classification rate:\", 1 - er)\n",
    "    plt.plot(LL)\n",
    "    plt.show()\n"
   ]
  },
  {
   "cell_type": "code",
   "execution_count": 2,
   "metadata": {},
   "outputs": [
    {
     "name": "stdout",
     "output_type": "stream",
     "text": [
      "-3.1450385982\n",
      "-0.19427322795\n",
      "-0.0648627168207\n",
      "-0.0354921499234\n",
      "-0.023569007484\n",
      "-0.0173144681977\n",
      "-0.0135295789473\n",
      "-0.0110211308713\n",
      "-0.00924858984816\n",
      "-0.00793666850621\n",
      "-0.00692920088522\n",
      "-0.00613501531585\n",
      "-0.00549322459395\n",
      "-0.0049654005316\n",
      "-0.00452438969844\n",
      "-0.00415058991564\n",
      "-0.00382998366757\n",
      "-0.00355258809214\n",
      "-0.0033103348029\n",
      "-0.00309706527427\n",
      "-0.00290785147922\n",
      "-0.0027391624067\n",
      "-0.00258782138005\n",
      "-0.00245128977743\n",
      "-0.002327553324\n",
      "-0.00221510855321\n",
      "-0.00211224272574\n",
      "-0.00201798264314\n",
      "-0.00193128823623\n",
      "-0.00185131605332\n",
      "final classification rate: 1.0\n"
     ]
    },
    {
     "data": {
      "image/png": "[encoded data removed]",
      "text/plain": [
       "<matplotlib.figure.Figure at 0x1ee9db94208>"
      ]
     },
     "metadata": {},
     "output_type": "display_data"
    }
   ],
   "source": [
    "test_xor()"
   ]
  },
  {
   "cell_type": "code",
   "execution_count": 3,
   "metadata": {},
   "outputs": [
    {
     "name": "stdout",
     "output_type": "stream",
     "text": [
      "i: 0 ll: -6420.66083103 classification rate: 0.484\n",
      "i: 300 ll: -319.468312818 classification rate: 0.924\n",
      "i: 600 ll: -163.821024775 classification rate: 0.977\n",
      "i: 900 ll: -95.8494507729 classification rate: 0.989\n",
      "i: 1200 ll: -60.2313954527 classification rate: 0.991\n",
      "i: 1500 ll: -48.6364365008 classification rate: 0.991\n",
      "i: 1800 ll: -41.642730383 classification rate: 0.991\n",
      "i: 2100 ll: -36.9266007619 classification rate: 0.992\n",
      "i: 2400 ll: -32.9523578813 classification rate: 0.992\n",
      "i: 2700 ll: -30.2742526492 classification rate: 0.994\n"
     ]
    },
    {
     "data": {
      "image/png": "[encoded data removed]",
      "text/plain": [
       "<matplotlib.figure.Figure at 0x1ee9db61ef0>"
      ]
     },
     "metadata": {},
     "output_type": "display_data"
    }
   ],
   "source": [
    "test_donut()"
   ]
  }
 ],
 "metadata": {
  "kernelspec": {
   "display_name": "Python 3",
   "language": "python",
   "name": "python3"
  },
  "language_info": {
   "codemirror_mode": {
    "name": "ipython",
    "version": 3
   },
   "file_extension": ".py",
   "mimetype": "text/x-python",
   "name": "python",
   "nbconvert_exporter": "python",
   "pygments_lexer": "ipython3",
   "version": "3.6.1"
  }
 },
 "nbformat": 4,
 "nbformat_minor": 2
}
